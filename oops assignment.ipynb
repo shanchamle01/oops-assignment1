{
 "cells": [
  {
   "cell_type": "code",
   "execution_count": 3,
   "id": "322217d9-4590-4855-87d3-031fc7c222b7",
   "metadata": {},
   "outputs": [],
   "source": [
    "#q.1\n",
    "class vehicle:\n",
    "      def __init__(self,name_of_vehicle,max_speed,average_of_vehicle):\n",
    "        self.name_of_vehicle=name_of_vehicle\n",
    "        self.max_speed=max_speed\n",
    "        self.average_of_vehicle=average_of_vehicle\n",
    "    \n"
   ]
  },
  {
   "cell_type": "code",
   "execution_count": 4,
   "id": "144e8917-bbff-4956-bb07-c6c54a9d54d5",
   "metadata": {},
   "outputs": [],
   "source": [
    "v=vehicle(\"CAR\",220,35)"
   ]
  },
  {
   "cell_type": "code",
   "execution_count": 5,
   "id": "1c91dbef-a103-453e-94de-90f9e7c1fe58",
   "metadata": {},
   "outputs": [
    {
     "data": {
      "text/plain": [
       "'CAR'"
      ]
     },
     "execution_count": 5,
     "metadata": {},
     "output_type": "execute_result"
    }
   ],
   "source": [
    "v.name_of_vehicle"
   ]
  },
  {
   "cell_type": "code",
   "execution_count": 6,
   "id": "ec1106c2-c93e-44dd-a796-2ed9ca71b3d9",
   "metadata": {},
   "outputs": [
    {
     "data": {
      "text/plain": [
       "220"
      ]
     },
     "execution_count": 6,
     "metadata": {},
     "output_type": "execute_result"
    }
   ],
   "source": [
    "v.max_speed"
   ]
  },
  {
   "cell_type": "code",
   "execution_count": 7,
   "id": "9e344762-38fd-4e62-ad71-7596b55c5591",
   "metadata": {},
   "outputs": [
    {
     "data": {
      "text/plain": [
       "35"
      ]
     },
     "execution_count": 7,
     "metadata": {},
     "output_type": "execute_result"
    }
   ],
   "source": [
    "v.average_of_vehicle"
   ]
  },
  {
   "cell_type": "code",
   "execution_count": 9,
   "id": "4487208c-ba35-456c-af4c-2daa9900e97c",
   "metadata": {},
   "outputs": [],
   "source": [
    "#q.2\n",
    "class vehicle:\n",
    "    def test_vehicle(self):\n",
    "        return \"this is parent class vehicle\""
   ]
  },
  {
   "cell_type": "code",
   "execution_count": 12,
   "id": "2762ac9c-9db6-4d0f-b1a0-515ac91ded70",
   "metadata": {},
   "outputs": [],
   "source": [
    "class car(vehicle):\n",
    "    def test_car(self):\n",
    "        return\"this is child class from vehicle class\""
   ]
  },
  {
   "cell_type": "code",
   "execution_count": 19,
   "id": "17066f83-fbd8-4b34-9605-7716757230a2",
   "metadata": {},
   "outputs": [],
   "source": [
    "class seating_capacity(car):\n",
    "    pass"
   ]
  },
  {
   "cell_type": "code",
   "execution_count": 20,
   "id": "9d99ebae-4941-4d21-b446-dda613c1c128",
   "metadata": {},
   "outputs": [],
   "source": [
    "obj_seating_capacity=seating_capacity()"
   ]
  },
  {
   "cell_type": "code",
   "execution_count": 22,
   "id": "7dc27703-cde1-47e0-a883-fe2c669618f1",
   "metadata": {},
   "outputs": [
    {
     "data": {
      "text/plain": [
       "'this is parent class vehicle'"
      ]
     },
     "execution_count": 22,
     "metadata": {},
     "output_type": "execute_result"
    }
   ],
   "source": [
    "obj_seating_capacity.test_vehicle()"
   ]
  },
  {
   "cell_type": "code",
   "execution_count": 23,
   "id": "0e5a66bf-700f-4bdb-810c-36e061d289f8",
   "metadata": {},
   "outputs": [
    {
     "data": {
      "text/plain": [
       "'this is child class from vehicle class'"
      ]
     },
     "execution_count": 23,
     "metadata": {},
     "output_type": "execute_result"
    }
   ],
   "source": [
    "obj_seating_capacity.test_car()"
   ]
  },
  {
   "cell_type": "code",
   "execution_count": 27,
   "id": "bb55b961-4157-4571-8bee-4075bff79110",
   "metadata": {},
   "outputs": [],
   "source": [
    "#q.3\n",
    "#when a class is derived from more than one base class known as multiple inheritance"
   ]
  },
  {
   "cell_type": "code",
   "execution_count": 28,
   "id": "d379e58d-27db-4b83-9854-4a2151258483",
   "metadata": {},
   "outputs": [],
   "source": [
    "class class1:\n",
    "    def test(self):\n",
    "        print(\"at class1 \")"
   ]
  },
  {
   "cell_type": "code",
   "execution_count": 33,
   "id": "b4e0cae8-9d9a-498f-acd8-6d7daacd0fa6",
   "metadata": {},
   "outputs": [],
   "source": [
    "class class2(class1):\n",
    "    def test(self):\n",
    "        print(\"at class 2\")\n",
    "        super().test()"
   ]
  },
  {
   "cell_type": "code",
   "execution_count": 36,
   "id": "8eedf241-6685-4f49-bb9c-7c80f7f34d9f",
   "metadata": {},
   "outputs": [],
   "source": [
    "class class3(class1):\n",
    "     def test(self):\n",
    "         print(\"at class3\")\n",
    "         super().test()\n",
    "    "
   ]
  },
  {
   "cell_type": "code",
   "execution_count": 41,
   "id": "f0447628-3c73-4688-a5df-509ee3bb7ace",
   "metadata": {},
   "outputs": [],
   "source": [
    "class class4(class2,class3):\n",
    "    def test(self,):\n",
    "        print(\"at class4\")\n",
    "        super().test()"
   ]
  },
  {
   "cell_type": "code",
   "execution_count": 38,
   "id": "01ce9a76-4e36-4a46-a38b-4ec863cf52df",
   "metadata": {},
   "outputs": [],
   "source": [
    "obj =class4"
   ]
  },
  {
   "cell_type": "code",
   "execution_count": null,
   "id": "7761f25d-f04e-4991-a98e-0b02e138c088",
   "metadata": {},
   "outputs": [],
   "source": [
    "#q.4\n",
    "#getter and setter method:\n",
    "  #  it is property object that has methods getter(),setter().\n",
    "  #  we use getter and setter to add validation logic around getting and setting a value.\n",
    "  #  using normal function to achieve getters and setters behaviour."
   ]
  },
  {
   "cell_type": "code",
   "execution_count": 12,
   "id": "9953a961-c0d5-4fa0-8c8a-18c65eddfd52",
   "metadata": {},
   "outputs": [],
   "source": [
    "class vehicle:\n",
    "    def __init__(self,speed):\n",
    "        self._speed=speed\n",
    "        \n",
    "        def get_speed(self):\n",
    "            return self._speed\n",
    "        def set_speed(self,x):\n",
    "            self._speed=x\n",
    "            "
   ]
  },
  {
   "cell_type": "code",
   "execution_count": null,
   "id": "c34f643a-353e-41c7-9263-a7171eedbb15",
   "metadata": {},
   "outputs": [],
   "source": [
    "car=vehicle()"
   ]
  },
  {
   "cell_type": "code",
   "execution_count": null,
   "id": "bc9bbf8c-a11c-45c7-8da1-658193a26881",
   "metadata": {},
   "outputs": [],
   "source": [
    "car.set_speed(40)"
   ]
  },
  {
   "cell_type": "code",
   "execution_count": null,
   "id": "4062d7e1-efda-4bec-8095-3c055b2e1a2f",
   "metadata": {},
   "outputs": [],
   "source": [
    "#q.5\n",
    "#overriding method:\n",
    " #   when you have two methods with same name that each perform different tasks."
   ]
  },
  {
   "cell_type": "code",
   "execution_count": 14,
   "id": "3901c00a-a4a5-44ab-a7f2-6dc7d5c9d515",
   "metadata": {},
   "outputs": [],
   "source": [
    "class parent():\n",
    "    def display (self):\n",
    "        print(\"inside parent\")\n",
    "        \n",
    "        \n",
    "            \n",
    "                "
   ]
  },
  {
   "cell_type": "code",
   "execution_count": 17,
   "id": "17a5e6ef-f281-49c8-b6be-c9a6e4a00504",
   "metadata": {},
   "outputs": [],
   "source": [
    "class child(parent):\n",
    "            def show (self):\n",
    "                print(\"inside child class\")\n",
    "                "
   ]
  },
  {
   "cell_type": "code",
   "execution_count": 22,
   "id": "a7ec9c83-8a75-4060-b94f-e7e8b4f80fc7",
   "metadata": {},
   "outputs": [],
   "source": [
    "                class derived(child):\n",
    "                    def display(self):\n",
    "                        print(\"inside derived class\")\n",
    "                "
   ]
  },
  {
   "cell_type": "code",
   "execution_count": 19,
   "id": "40d498c6-01c2-4f13-b1d7-c508bcadc6eb",
   "metadata": {},
   "outputs": [],
   "source": [
    "d=derived()"
   ]
  },
  {
   "cell_type": "code",
   "execution_count": 20,
   "id": "4e136372-5f88-44b2-866c-76840f90c51e",
   "metadata": {},
   "outputs": [
    {
     "name": "stdout",
     "output_type": "stream",
     "text": [
      "inside child class\n"
     ]
    }
   ],
   "source": [
    "d.show()"
   ]
  }
 ],
 "metadata": {
  "kernelspec": {
   "display_name": "Python 3 (ipykernel)",
   "language": "python",
   "name": "python3"
  },
  "language_info": {
   "codemirror_mode": {
    "name": "ipython",
    "version": 3
   },
   "file_extension": ".py",
   "mimetype": "text/x-python",
   "name": "python",
   "nbconvert_exporter": "python",
   "pygments_lexer": "ipython3",
   "version": "3.10.8"
  }
 },
 "nbformat": 4,
 "nbformat_minor": 5
}
